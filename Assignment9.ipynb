{
  "nbformat": 4,
  "nbformat_minor": 0,
  "metadata": {
    "colab": {
      "name": "Assignment9.ipynb",
      "provenance": [],
      "collapsed_sections": []
    },
    "kernelspec": {
      "name": "python3",
      "display_name": "Python 3"
    }
  },
  "cells": [
    {
      "cell_type": "markdown",
      "metadata": {
        "id": "fc4gc_P32ndd",
        "colab_type": "text"
      },
      "source": [
        "1. Write a program that prints the integers from 1 to 100. But for multiples of three print \"Fizz\" instead of the number, and for the multiples of five print \"Buzz\". For numbers which are multiples of both three and five print \"FizzBuzz\"."
      ]
    },
    {
      "cell_type": "code",
      "metadata": {
        "id": "dLxljKNDBk3_",
        "colab_type": "code",
        "colab": {
          "base_uri": "https://localhost:8080/",
          "height": 924
        },
        "outputId": "0ad0e19f-825d-4ccc-e6b1-a54911eef5f7"
      },
      "source": [
        "for i in range(1,101):\n",
        "  if i%3==0 and i%5==0:\n",
        "    print('Fizzbuzz',end=\" \")\n",
        "  elif i%5==0:\n",
        "    print('buzz',end=\" \")\n",
        "  elif i%3==0:\n",
        "    print('Fizz',end=\" \")\n",
        "  else:\n",
        "    print(i)     \n"
      ],
      "execution_count": null,
      "outputs": [
        {
          "output_type": "stream",
          "text": [
            "1\n",
            "2\n",
            "Fizz 4\n",
            "buzz Fizz 7\n",
            "8\n",
            "Fizz buzz 11\n",
            "Fizz 13\n",
            "14\n",
            "Fizzbuzz 16\n",
            "17\n",
            "Fizz 19\n",
            "buzz Fizz 22\n",
            "23\n",
            "Fizz buzz 26\n",
            "Fizz 28\n",
            "29\n",
            "Fizzbuzz 31\n",
            "32\n",
            "Fizz 34\n",
            "buzz Fizz 37\n",
            "38\n",
            "Fizz buzz 41\n",
            "Fizz 43\n",
            "44\n",
            "Fizzbuzz 46\n",
            "47\n",
            "Fizz 49\n",
            "buzz Fizz 52\n",
            "53\n",
            "Fizz buzz 56\n",
            "Fizz 58\n",
            "59\n",
            "Fizzbuzz 61\n",
            "62\n",
            "Fizz 64\n",
            "buzz Fizz 67\n",
            "68\n",
            "Fizz buzz 71\n",
            "Fizz 73\n",
            "74\n",
            "Fizzbuzz 76\n",
            "77\n",
            "Fizz 79\n",
            "buzz Fizz 82\n",
            "83\n",
            "Fizz buzz 86\n",
            "Fizz 88\n",
            "89\n",
            "Fizzbuzz 91\n",
            "92\n",
            "Fizz 94\n",
            "buzz Fizz 97\n",
            "98\n",
            "Fizz buzz "
          ],
          "name": "stdout"
        }
      ]
    },
    {
      "cell_type": "markdown",
      "metadata": {
        "id": "a2Hqelp2kplg",
        "colab_type": "text"
      },
      "source": [
        "2. Write a python function that accepts a string and calculates the number of upper case and lower case letters.  "
      ]
    },
    {
      "cell_type": "markdown",
      "metadata": {
        "id": "sDHLeAUuvnB4",
        "colab_type": "text"
      },
      "source": [
        "s1=input('Enter a string:')\n",
        "upper=0\n",
        "lower=0\n",
        "A=65\n",
        "a=91\n",
        "Z=97\n",
        "z=123\n",
        "for i in s1:\n",
        "  if i>='A' and i<='a':\n",
        "    upper=upper+1\n",
        "  if i>='Z' and i<='z':\n",
        "    lower=lower+1\n",
        "print('the number of upper cases:',upper)\n",
        "print('the number of lower')      "
      ]
    },
    {
      "cell_type": "markdown",
      "metadata": {
        "id": "zDkcRWTew49z",
        "colab_type": "text"
      },
      "source": [
        "2. Write a program to find unique element from list. "
      ]
    },
    {
      "cell_type": "code",
      "metadata": {
        "id": "DJzgqHS9vQco",
        "colab_type": "code",
        "colab": {
          "base_uri": "https://localhost:8080/",
          "height": 101
        },
        "outputId": "7f958766-6ef0-4bab-f432-5288530e8e24"
      },
      "source": [
        "a=input('Enter elements in list:\\n')\n",
        "a=a.split(\",\")\n",
        "print(a)\n",
        "for i in range (len(a)):\n",
        "  a[i]=int(a[i])\n",
        "print(a)\n",
        "print([a[i] for i in range(len(a)) if a[i] not in a[0:i]])"
      ],
      "execution_count": null,
      "outputs": [
        {
          "output_type": "stream",
          "text": [
            "Enter elements in list:\n",
            "2,2,2,2,2\n",
            "['2', '2', '2', '2', '2']\n",
            "[2, 2, 2, 2, 2]\n",
            "[2]\n"
          ],
          "name": "stdout"
        }
      ]
    },
    {
      "cell_type": "markdown",
      "metadata": {
        "id": "M6uWboIpo98O",
        "colab_type": "text"
      },
      "source": [
        "3. Write a python function that accepts a string and calculate the number of upper case letters and lower case letters.  "
      ]
    },
    {
      "cell_type": "code",
      "metadata": {
        "id": "mO_kU3tdp5mW",
        "colab_type": "code",
        "colab": {
          "base_uri": "https://localhost:8080/",
          "height": 67
        },
        "outputId": "83c418c3-7994-436e-80c6-815427df9540"
      },
      "source": [
        "s1=input('Enter a string:')\n",
        "A=65\n",
        "Z=91\n",
        "a=97\n",
        "z=123\n",
        "upper=0\n",
        "lower=0\n",
        "for i in s1:\n",
        "  if i>='A' and i<='Z':\n",
        "    upper=upper+1\n",
        "  if i>='a' and i<='z':\n",
        "    lower=lower+1\n",
        "print('Number of upper cases in a string:',upper)\n",
        "print('Number of lower cases in a string:',lower)      "
      ],
      "execution_count": 18,
      "outputs": [
        {
          "output_type": "stream",
          "text": [
            "Enter a string:Hello Mr. Kishore!! How are you? \n",
            "Number of upper cases in a string: 4\n",
            "Number of lower cases in a string: 19\n"
          ],
          "name": "stdout"
        }
      ]
    },
    {
      "cell_type": "markdown",
      "metadata": {
        "id": "_5tPtx6Osfti",
        "colab_type": "text"
      },
      "source": [
        "4. Write a python function that checks whether a number is in given range. "
      ]
    },
    {
      "cell_type": "code",
      "metadata": {
        "id": "KG8R5NCSwOja",
        "colab_type": "code",
        "colab": {
          "base_uri": "https://localhost:8080/",
          "height": 84
        },
        "outputId": "f23c7823-0ec5-4244-a1b4-4e655a1e17ae"
      },
      "source": [
        "def range1():\n",
        "  s=int(input('Enter stating range value:'))\n",
        "  e=int(input('Enter ending range value:'))\n",
        "  num=int(input('num:'))\n",
        "  if num>=s and num<=e:\n",
        "    print('Entered num is in given range')\n",
        "  else:\n",
        "    print('Entered num is not in given range')\n",
        "range1()      "
      ],
      "execution_count": 19,
      "outputs": [
        {
          "output_type": "stream",
          "text": [
            "Enter stating range value:100\n",
            "Enter ending range value:1000\n",
            "num:456\n",
            "Entered num is in given range\n"
          ],
          "name": "stdout"
        }
      ]
    },
    {
      "cell_type": "markdown",
      "metadata": {
        "id": "wHAkRcT6ygzi",
        "colab_type": "text"
      },
      "source": [
        "5. Write a python program to remove consecutive duplicates from list."
      ]
    },
    {
      "cell_type": "code",
      "metadata": {
        "id": "sq5Opa9F9vr7",
        "colab_type": "code",
        "colab": {
          "base_uri": "https://localhost:8080/",
          "height": 128
        },
        "outputId": "8d7105a2-5d2e-49d0-c699-3d2c11bc5d12"
      },
      "source": [
        "l1=input('Enter a list:')\n",
        "l1=l1.split(\",\")\n",
        "print(l1)\n",
        "for i in len[l1]:\n",
        "  l1[i]=int(l1[i])\n",
        "print(l1) \n",
        "print([l1[i]) for i in range (len(l1)) if l1[i] not in l1[0:i]]) \n",
        "\n",
        "    "
      ],
      "execution_count": 26,
      "outputs": [
        {
          "output_type": "error",
          "ename": "SyntaxError",
          "evalue": "ignored",
          "traceback": [
            "\u001b[0;36m  File \u001b[0;32m\"<ipython-input-26-60d6421b2e5b>\"\u001b[0;36m, line \u001b[0;32m7\u001b[0m\n\u001b[0;31m    print([l1[i]) for i in range (len(l1)) if l1[i] not in l1[0:i]])\u001b[0m\n\u001b[0m                ^\u001b[0m\n\u001b[0;31mSyntaxError\u001b[0m\u001b[0;31m:\u001b[0m invalid syntax\n"
          ]
        }
      ]
    },
    {
      "cell_type": "code",
      "metadata": {
        "id": "j6VdTh54-ABG",
        "colab_type": "code",
        "colab": {}
      },
      "source": [
        ""
      ],
      "execution_count": null,
      "outputs": []
    }
  ]
}