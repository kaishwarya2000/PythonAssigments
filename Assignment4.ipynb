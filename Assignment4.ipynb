{
  "nbformat": 4,
  "nbformat_minor": 0,
  "metadata": {
    "colab": {
      "name": "Assignment4.ipynb",
      "provenance": []
    },
    "kernelspec": {
      "name": "python3",
      "display_name": "Python 3"
    }
  },
  "cells": [
    {
      "cell_type": "markdown",
      "metadata": {
        "id": "tS5XGetSPEiD",
        "colab_type": "text"
      },
      "source": [
        "1. Write a python function to find the max of three numbers."
      ]
    },
    {
      "cell_type": "code",
      "metadata": {
        "id": "XLh-WNdePkb9",
        "colab_type": "code",
        "colab": {
          "base_uri": "https://localhost:8080/",
          "height": 84
        },
        "outputId": "599f8497-2799-4514-e416-fa0cf62190f9"
      },
      "source": [
        "def maxOfThreeNum():\n",
        " a = int(input('a:'))\n",
        " b = int(input('b:'))\n",
        " c = int(input('c:'))\n",
        " if a>=b and a>=c:\n",
        "   print('a is max')\n",
        "   \n",
        " elif b>=c and b>=a:\n",
        "   print('b is max')\n",
        "   \n",
        " elif c>=a and c>=b:\n",
        "   print('c is max')\n",
        "   \n",
        " else:\n",
        "   print('all are equal')  \n",
        "maxOfThreeNum()     "
      ],
      "execution_count": 11,
      "outputs": [
        {
          "output_type": "stream",
          "text": [
            "a:16\n",
            "b:12\n",
            "c:8\n",
            "a is max\n"
          ],
          "name": "stdout"
        }
      ]
    },
    {
      "cell_type": "markdown",
      "metadata": {
        "id": "VFltEMekTzcJ",
        "colab_type": "text"
      },
      "source": [
        "2. Write a Program to reverse a string"
      ]
    },
    {
      "cell_type": "code",
      "metadata": {
        "id": "xxkZKBo2UFnR",
        "colab_type": "code",
        "colab": {
          "base_uri": "https://localhost:8080/",
          "height": 84
        },
        "outputId": "332929b8-9e21-4f00-82c9-210eb2b5eaab"
      },
      "source": [
        "inputstr1 = (input('string: '))\n",
        "inputstr2 = (input('string: '))\n",
        "print(inputstr1[-1::-1])\n",
        "print(inputstr2[-1::-1])\n"
      ],
      "execution_count": 21,
      "outputs": [
        {
          "output_type": "stream",
          "text": [
            "string: Aishwarya\n",
            "string: Sai Kishore\n",
            "ayrawhsiA\n",
            "erohsiK iaS\n"
          ],
          "name": "stdout"
        }
      ]
    },
    {
      "cell_type": "markdown",
      "metadata": {
        "id": "piZvpJtqcW0n",
        "colab_type": "text"
      },
      "source": [
        "3. Write a python function to check whether the number is prime or not."
      ]
    },
    {
      "cell_type": "code",
      "metadata": {
        "id": "-wNIO2EAcpme",
        "colab_type": "code",
        "colab": {
          "base_uri": "https://localhost:8080/",
          "height": 50
        },
        "outputId": "22065f92-c455-4a68-893c-6208b7b25d65"
      },
      "source": [
        "def primeNumber():\n",
        "  x = int(input(\"x:\"))\n",
        "  if x/2==0: \n",
        "    print('x is composite number')\n",
        "  else:\n",
        "    print('x is prime number')\n",
        "primeNumber()\n",
        "\n",
        "            "
      ],
      "execution_count": 22,
      "outputs": [
        {
          "output_type": "stream",
          "text": [
            "x:13\n",
            "x is prime number\n"
          ],
          "name": "stdout"
        }
      ]
    },
    {
      "cell_type": "markdown",
      "metadata": {
        "id": "NQXI-MNQd9Ls",
        "colab_type": "text"
      },
      "source": [
        "4. Write a python function to find sum of squares of first n natural numbers"
      ]
    },
    {
      "cell_type": "code",
      "metadata": {
        "id": "1UO5fo-GePA9",
        "colab_type": "code",
        "colab": {
          "base_uri": "https://localhost:8080/",
          "height": 50
        },
        "outputId": "246d0f91-bda1-4955-f8d4-05d1e72a0c65"
      },
      "source": [
        "def sumOfNSquares():\n",
        "  n = int(input('n:'))\n",
        "  sum=0\n",
        "  for i in range(1,n+1):\n",
        "    sum=sum+(i*i)\n",
        "  print(sum)\n",
        "sumOfNSquares()\n"
      ],
      "execution_count": 33,
      "outputs": [
        {
          "output_type": "stream",
          "text": [
            "n:6\n",
            "91\n"
          ],
          "name": "stdout"
        }
      ]
    },
    {
      "cell_type": "markdown",
      "metadata": {
        "id": "3pgv9fOVPBXv",
        "colab_type": "text"
      },
      "source": [
        ""
      ]
    },
    {
      "cell_type": "code",
      "metadata": {
        "id": "9RNACSDZPiWO",
        "colab_type": "code",
        "colab": {}
      },
      "source": [
        ""
      ],
      "execution_count": null,
      "outputs": []
    },
    {
      "cell_type": "markdown",
      "metadata": {
        "id": "x9rkwnxkPAWn",
        "colab_type": "text"
      },
      "source": [
        ""
      ]
    }
  ]
}