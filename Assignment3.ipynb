{
  "nbformat": 4,
  "nbformat_minor": 0,
  "metadata": {
    "colab": {
      "name": "Assignment3.ipynb",
      "provenance": [],
      "collapsed_sections": []
    },
    "kernelspec": {
      "name": "python3",
      "display_name": "Python 3"
    }
  },
  "cells": [
    {
      "cell_type": "markdown",
      "metadata": {
        "id": "h4LPS_zzEeLq",
        "colab_type": "text"
      },
      "source": [
        "1. Take inputs from user and check whether they are equal or not\n"
      ]
    },
    {
      "cell_type": "code",
      "metadata": {
        "id": "MLvSU3TQDpb9",
        "colab_type": "code",
        "colab": {
          "base_uri": "https://localhost:8080/",
          "height": 67
        },
        "outputId": "44ad98f5-8384-4fb8-a30f-e2f689640b7f"
      },
      "source": [
        "a = int(input('Enter value of a'))\n",
        "b = int(input('Enter value of b'))\n",
        "if a==b:\n",
        "  print('a and b are equal')\n",
        "else:\n",
        "  print('a and b are not equal')"
      ],
      "execution_count": null,
      "outputs": [
        {
          "output_type": "stream",
          "text": [
            "Enter value of a15\n",
            "Enter value of b30\n",
            "a and b are not equal\n"
          ],
          "name": "stdout"
        }
      ]
    },
    {
      "cell_type": "markdown",
      "metadata": {
        "id": "ILc7ZuvcGGF0",
        "colab_type": "text"
      },
      "source": [
        ""
      ]
    },
    {
      "cell_type": "markdown",
      "metadata": {
        "id": "hUR2iSgyG7e_",
        "colab_type": "text"
      },
      "source": [
        " Take 3 input from user and check:\n",
        "1.All are equal\n",
        "2.Any of two are equal (use and or) "
      ]
    },
    {
      "cell_type": "code",
      "metadata": {
        "id": "O4tbJsNyKKDR",
        "colab_type": "code",
        "colab": {
          "base_uri": "https://localhost:8080/",
          "height": 84
        },
        "outputId": "fe84dfec-41fa-41a4-f8bb-45e58c1364b5"
      },
      "source": [
        "a = int(input('Enter value of a'))\n",
        "b = int(input('Enter value of b'))\n",
        "c = int(input('Enter value of c'))\n",
        "if a==b and a==c:\n",
        "  print ('All are equal')\n",
        "else:\n",
        "  if a==b or b==c:\n",
        "   print ('Any two are equal')\n",
        "  else:\n",
        "    print('Non of them are eual')"
      ],
      "execution_count": null,
      "outputs": [
        {
          "output_type": "stream",
          "text": [
            "Enter value of a4\n",
            "Enter value of b6\n",
            "Enter value of c6\n",
            "Any two are equal\n"
          ],
          "name": "stdout"
        }
      ]
    },
    {
      "cell_type": "markdown",
      "metadata": {
        "id": "V4chgMjGOa--",
        "colab_type": "text"
      },
      "source": [
        "Take two numbers and check whether the sum is greater than 5, less than 5 or equal to 5."
      ]
    },
    {
      "cell_type": "code",
      "metadata": {
        "id": "FDQlZCXWOu_G",
        "colab_type": "code",
        "colab": {
          "base_uri": "https://localhost:8080/",
          "height": 67
        },
        "outputId": "52a0e64d-85a1-4f18-c232-de02e41a5e65"
      },
      "source": [
        "x = int(input('Enter x:'))\n",
        "y = int(input('Enter y:'))\n",
        "if x+y > 5:\n",
        "  print('The sum of x and y is greater than 5')\n",
        "elif x+y < 5:\n",
        "  print('The sum of x and y is less than 5')\n",
        "else:\n",
        "  print('The sum of x and y is equal to 5 ')"
      ],
      "execution_count": null,
      "outputs": [
        {
          "output_type": "stream",
          "text": [
            "Enter x:2\n",
            "Enter y:0\n",
            "The sum of x and y is less than 5\n"
          ],
          "name": "stdout"
        }
      ]
    },
    {
      "cell_type": "markdown",
      "metadata": {
        "id": "kwqtHjbcQGcD",
        "colab_type": "text"
      },
      "source": [
        "Suppose passing marks of a subject is 35. Take input of marks from user and check whether is greater than passing marks or not."
      ]
    },
    {
      "cell_type": "code",
      "metadata": {
        "id": "d47LuVdTP9jv",
        "colab_type": "code",
        "colab": {
          "base_uri": "https://localhost:8080/",
          "height": 50
        },
        "outputId": "dd845c1e-11c1-42be-c402-950d251b173a"
      },
      "source": [
        "x = int(input('Enter x:'))\n",
        "if x>=35:\n",
        "  print('The student is passed in exam')\n",
        "else:\n",
        "  print('The student is failed')"
      ],
      "execution_count": null,
      "outputs": [
        {
          "output_type": "stream",
          "text": [
            "Enter x:90\n",
            "The student is passed in exam\n"
          ],
          "name": "stdout"
        }
      ]
    },
    {
      "cell_type": "markdown",
      "metadata": {
        "id": "36AJygZESski",
        "colab_type": "text"
      },
      "source": [
        "Write a python function to find the max of three numbers."
      ]
    },
    {
      "cell_type": "code",
      "metadata": {
        "id": "RwG59LiSS5j3",
        "colab_type": "code",
        "colab": {
          "base_uri": "https://localhost:8080/",
          "height": 84
        },
        "outputId": "a88eafe9-dea2-485d-a4e5-011c0a5142dc"
      },
      "source": [
        "maxofnum()\n",
        "def maxofnum():\n",
        "  a=int(input('a:'))\n",
        "  b=int(input('b:'))\n",
        "  c=int(input('c:'))\n",
        "  if a>b and a>c:\n",
        "    print('a is max')\n",
        "  elif b>a and b>c:\n",
        "    print('b is max')\n",
        "  else:\n",
        "    print('c is max')\n"
      ],
      "execution_count": null,
      "outputs": [
        {
          "output_type": "stream",
          "text": [
            "a:4\n",
            "b:5\n",
            "c:1\n",
            "b is max\n"
          ],
          "name": "stdout"
        }
      ]
    }
  ]
}