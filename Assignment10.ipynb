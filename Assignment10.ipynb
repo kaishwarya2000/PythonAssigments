{
  "nbformat": 4,
  "nbformat_minor": 0,
  "metadata": {
    "colab": {
      "name": "Untitled12.ipynb",
      "provenance": []
    },
    "kernelspec": {
      "name": "python3",
      "display_name": "Python 3"
    }
  },
  "cells": [
    {
      "cell_type": "markdown",
      "metadata": {
        "id": "a3hMxUS4KAQM",
        "colab_type": "text"
      },
      "source": [
        "1. Write a Python program to get the largest and smallest number from the list."
      ]
    },
    {
      "cell_type": "code",
      "metadata": {
        "id": "4HubQujKMxze",
        "colab_type": "code",
        "colab": {
          "base_uri": "https://localhost:8080/",
          "height": 84
        },
        "outputId": "dad80583-b177-4aae-8222-309af916cf3c"
      },
      "source": [
        "list1=input('Enter a list:')\n",
        "l1=list1.split(\",\")\n",
        "print('My list is:',l1)\n",
        "for i in range(len(l1)):\n",
        "  l1[i]=int(l1[i])\n",
        "print(l1)\n",
        "max(l1) \n",
        "min(l1) \n"
      ],
      "execution_count": 42,
      "outputs": [
        {
          "output_type": "stream",
          "text": [
            "Enter a list:22,43,16,30,12\n",
            "My list is: ['22', '43', '16', '30', '12']\n",
            "[22, 43, 16, 30, 12]\n"
          ],
          "name": "stdout"
        },
        {
          "output_type": "execute_result",
          "data": {
            "text/plain": [
              "12"
            ]
          },
          "metadata": {
            "tags": []
          },
          "execution_count": 42
        }
      ]
    },
    {
      "cell_type": "markdown",
      "metadata": {
        "id": "nxH1cIv1SkbR",
        "colab_type": "text"
      },
      "source": [
        "2. Write a python program to print a specified after removing the 0th, 4th, and 5th elements.\n"
      ]
    },
    {
      "cell_type": "code",
      "metadata": {
        "id": "larp7gWGURZk",
        "colab_type": "code",
        "colab": {
          "base_uri": "https://localhost:8080/",
          "height": 118
        },
        "outputId": "ad552136-5331-4ae3-c63f-52eff293e4c7"
      },
      "source": [
        "list1=input('Enter a list:')\n",
        "mylist=list1.split(\",\")\n",
        "print('mylist is:',mylist)\n",
        "mylist.remove(mylist[0])\n",
        "print('mylist after removing 0th element:',mylist)\n",
        "mylist.remove(mylist[3])\n",
        "print('mylist after removing 4th element:',mylist)\n",
        "mylist.remove(mylist[3])\n",
        "print('mylist after removing 5th element:',mylist)\n",
        "print('My list after deleting 0th,4th and 5th elements is:',mylist)"
      ],
      "execution_count": 66,
      "outputs": [
        {
          "output_type": "stream",
          "text": [
            "Enter a list:2,5,4,3,9,8,1\n",
            "mylist is: ['2', '5', '4', '3', '9', '8', '1']\n",
            "mylist after removing 0th element: ['5', '4', '3', '9', '8', '1']\n",
            "mylist after removing 4th element: ['5', '4', '3', '8', '1']\n",
            "mylist after removing 5th element: ['5', '4', '3', '1']\n",
            "My list after deleting 0th,4th and 5th elements is: ['5', '4', '3', '1']\n"
          ],
          "name": "stdout"
        }
      ]
    },
    {
      "cell_type": "markdown",
      "metadata": {
        "id": "a6HbQDz6byMn",
        "colab_type": "text"
      },
      "source": [
        "3. Write a python program to get the difference between the two lists."
      ]
    },
    {
      "cell_type": "code",
      "metadata": {
        "id": "rQiN79XTcGFM",
        "colab_type": "code",
        "colab": {
          "base_uri": "https://localhost:8080/",
          "height": 101
        },
        "outputId": "9cae0813-092c-4638-abd4-75ffadcccc4c"
      },
      "source": [
        "a=input('enter 1st list:')\n",
        "b=input('enter 2nd list:')\n",
        "a=a.split(\",\")\n",
        "b=b.split(\",\")\n",
        "for i in range(len(a)):\n",
        "  a[i]=int(a[i])\n",
        "print(a)\n",
        "for i in range(len(b)):\n",
        "  b[i]=int(b[i])\n",
        "print(b)\n",
        "diff_a_b=list(set(a)-set(b))\n",
        "diff_b_a=list(set(b)-set(a))\n",
        "total_diff=diff_a_b + diff_b_a\n",
        "print('difference of two lists a and b is:',total_diff)"
      ],
      "execution_count": 73,
      "outputs": [
        {
          "output_type": "stream",
          "text": [
            "enter 1st list:2,4,6,8,10,3\n",
            "enter 2nd list:3,6,15,1,4,2\n",
            "[2, 4, 6, 8, 10, 3]\n",
            "[3, 6, 15, 1, 4, 2]\n",
            "difference of two lists a and b is: [8, 10, 1, 15]\n"
          ],
          "name": "stdout"
        }
      ]
    },
    {
      "cell_type": "markdown",
      "metadata": {
        "id": "b2J_Qq8jd0a7",
        "colab_type": "text"
      },
      "source": [
        "4. Write a python program to shuffle and print a specified list."
      ]
    },
    {
      "cell_type": "code",
      "metadata": {
        "id": "-IywUmfFeA5b",
        "colab_type": "code",
        "colab": {
          "base_uri": "https://localhost:8080/",
          "height": 84
        },
        "outputId": "29e56a0c-aae5-49d6-878d-440832873d01"
      },
      "source": [
        "import random\n",
        "a=input('original list:')\n",
        "a1=a.split(\",\")\n",
        "print(a1)\n",
        "for i in range(len(a1)):\n",
        "  a1[i]=int(a1[i])\n",
        "print(a1)\n",
        "random.shuffle(a1)\n",
        "print('shuffled list is:',a1)  \n"
      ],
      "execution_count": 45,
      "outputs": [
        {
          "output_type": "stream",
          "text": [
            "original list:4,8,10,2,5\n",
            "['4', '8', '10', '2', '5']\n",
            "[4, 8, 10, 2, 5]\n",
            "shuffled list is: [10, 2, 5, 4, 8]\n"
          ],
          "name": "stdout"
        }
      ]
    },
    {
      "cell_type": "markdown",
      "metadata": {
        "id": "D-dYgOlHJase",
        "colab_type": "text"
      },
      "source": [
        "5. Write a python program to print the numbers of a specified list after removing even numbers from it."
      ]
    },
    {
      "cell_type": "code",
      "metadata": {
        "id": "nHQWO2_nKgAV",
        "colab_type": "code",
        "colab": {
          "base_uri": "https://localhost:8080/",
          "height": 84
        },
        "outputId": "c6ba2dbf-6e03-4c57-b86e-d9da7db88f7f"
      },
      "source": [
        "x1=input('Enter a list:')\n",
        "x=x1.split(\",\")\n",
        "print(x)\n",
        "for i in range(len(x)):\n",
        "  x[i]=int(x[i])\n",
        "print(x)\n",
        "for i in x:\n",
        "  if i%2==0:\n",
        "    x.remove(i)\n",
        "print('List after removing even numbers:',x)      \n"
      ],
      "execution_count": 77,
      "outputs": [
        {
          "output_type": "stream",
          "text": [
            "Enter a list:2,5,8,10,3\n",
            "['2', '5', '8', '10', '3']\n",
            "[2, 5, 8, 10, 3]\n",
            "List after removing even numbers: [5, 10, 3]\n"
          ],
          "name": "stdout"
        }
      ]
    },
    {
      "cell_type": "markdown",
      "metadata": {
        "id": "NneNpa2eOzf6",
        "colab_type": "text"
      },
      "source": [
        "6. Write a python program to copy a list."
      ]
    },
    {
      "cell_type": "code",
      "metadata": {
        "id": "Vc9iaFg0PMCj",
        "colab_type": "code",
        "colab": {
          "base_uri": "https://localhost:8080/",
          "height": 84
        },
        "outputId": "f6cfedae-f69a-4c92-82d3-d375100ef6bb"
      },
      "source": [
        "p1=input('Enter a list:')\n",
        "p=p1.split(\",\")\n",
        "print(p)\n",
        "for i in range(len(p)):\n",
        "  p[i]=int(p[i])\n",
        "print('Original list:',p)\n",
        "new_list=list(p)\n",
        "print('new_list',new_list)   "
      ],
      "execution_count": 79,
      "outputs": [
        {
          "output_type": "stream",
          "text": [
            "Enter a list:10,22,30,15,5\n",
            "['10', '22', '30', '15', '5']\n",
            "Original list: [10, 22, 30, 15, 5]\n",
            "new_list [10, 22, 30, 15, 5]\n"
          ],
          "name": "stdout"
        }
      ]
    },
    {
      "cell_type": "markdown",
      "metadata": {
        "id": "daZNO84gSlnc",
        "colab_type": "text"
      },
      "source": [
        "7. Python program to check a list is empty or not."
      ]
    },
    {
      "cell_type": "code",
      "metadata": {
        "id": "BHEWMNH1S_pG",
        "colab_type": "code",
        "colab": {
          "base_uri": "https://localhost:8080/",
          "height": 34
        },
        "outputId": "44b44ab2-0903-4332-a3e3-dcbaf47d296b"
      },
      "source": [
        "s=[]\n",
        "if len(s)==0:\n",
        "  print('List s is empty')\n",
        "else:\n",
        "  print('List s is not empty')  "
      ],
      "execution_count": 84,
      "outputs": [
        {
          "output_type": "stream",
          "text": [
            "List s is empty\n"
          ],
          "name": "stdout"
        }
      ]
    },
    {
      "cell_type": "markdown",
      "metadata": {
        "id": "VBob7lnzVq12",
        "colab_type": "text"
      },
      "source": [
        "8. Write a python program to remove duplicates from a list."
      ]
    },
    {
      "cell_type": "code",
      "metadata": {
        "id": "kx9dmLfXV8L-",
        "colab_type": "code",
        "colab": {
          "base_uri": "https://localhost:8080/",
          "height": 134
        },
        "outputId": "f731863a-3ed4-4c2e-a826-ab48f7fbbd6b"
      },
      "source": [
        "y1=input('Enter list elements:')\n",
        "y=y1.split(\",\")\n",
        "print(y)\n",
        "for i in range(len(y)):\n",
        "  y[i]=int(y[i])\n",
        "print('my list:',y)\n",
        "print(y[0])\n",
        "for i in range(y[1],len(y)):\n",
        "  if y[i]!= y[i-1]:\n",
        "    print(y[i]) "
      ],
      "execution_count": 111,
      "outputs": [
        {
          "output_type": "stream",
          "text": [
            "Enter list elements:2,3,2,4,3,5\n",
            "['2', '3', '2', '4', '3', '5']\n",
            "my list: [2, 3, 2, 4, 3, 5]\n",
            "2\n",
            "4\n",
            "3\n",
            "5\n"
          ],
          "name": "stdout"
        }
      ]
    },
    {
      "cell_type": "markdown",
      "metadata": {
        "id": "7L8Yl4FOftkA",
        "colab_type": "text"
      },
      "source": [
        ""
      ]
    }
  ]
}