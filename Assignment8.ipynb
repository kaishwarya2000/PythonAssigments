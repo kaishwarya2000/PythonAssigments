{
  "nbformat": 4,
  "nbformat_minor": 0,
  "metadata": {
    "colab": {
      "name": "Assignment8.ipynb",
      "provenance": [],
      "collapsed_sections": []
    },
    "kernelspec": {
      "name": "python3",
      "display_name": "Python 3"
    }
  },
  "cells": [
    {
      "cell_type": "markdown",
      "metadata": {
        "id": "U8Mmp0W8Qc1P",
        "colab_type": "text"
      },
      "source": [
        "1. Write a python programto calculate length of a string"
      ]
    },
    {
      "cell_type": "code",
      "metadata": {
        "id": "OMl-tLBRQbzh",
        "colab_type": "code",
        "colab": {
          "base_uri": "https://localhost:8080/",
          "height": 34
        },
        "outputId": "86172446-0cd8-4551-e014-890877cbfb24"
      },
      "source": [
        "a='Aishwarya Kogilathota'\n",
        "length=str(len(a))\n",
        "print('The length of the string is:',length)"
      ],
      "execution_count": null,
      "outputs": [
        {
          "output_type": "stream",
          "text": [
            "The length of the string is: 21\n"
          ],
          "name": "stdout"
        }
      ]
    },
    {
      "cell_type": "markdown",
      "metadata": {
        "id": "loQCOsvcRQxP",
        "colab_type": "text"
      },
      "source": [
        "2. Write a Python program to count the number of characters in a string."
      ]
    },
    {
      "cell_type": "code",
      "metadata": {
        "id": "s4SPcYXLRiLV",
        "colab_type": "code",
        "colab": {
          "base_uri": "https://localhost:8080/",
          "height": 50
        },
        "outputId": "279cbfd4-1c52-437d-b181-06cd59c30c45"
      },
      "source": [
        "str1=input('Enter a string:')\n",
        "total=0\n",
        "for i in str1:\n",
        "  total=total+1\n",
        "print('Total number of characters in a given string is:',total)"
      ],
      "execution_count": null,
      "outputs": [
        {
          "output_type": "stream",
          "text": [
            "Enter a string:Good Morning Everyone\n",
            "Total number of characters in a given string is: 21\n"
          ],
          "name": "stdout"
        }
      ]
    },
    {
      "cell_type": "markdown",
      "metadata": {
        "id": "DHv2I-RNT0lx",
        "colab_type": "text"
      },
      "source": [
        "3. Write a program to get a single string from two given strings, seperated by a space and swap the first two characters of each string."
      ]
    },
    {
      "cell_type": "code",
      "metadata": {
        "id": "DXcJv0F2X4jS",
        "colab_type": "code",
        "colab": {
          "base_uri": "https://localhost:8080/",
          "height": 246
        },
        "outputId": "bda9daa4-2413-4905-91d3-74f6cee0ec1f"
      },
      "source": [
        "s1= 'Hello '\n",
        "s2= 'Everyone!!'\n",
        "s3=s1 + s2\n",
        "print(s3)\n",
        "temp=s1[0]\n",
        "s1[0]=s1[1]\n",
        "s1[1]=temp\n",
        "print(s1)\n",
        "\n"
      ],
      "execution_count": null,
      "outputs": [
        {
          "output_type": "stream",
          "text": [
            "Hello Everyone!!\n"
          ],
          "name": "stdout"
        },
        {
          "output_type": "error",
          "ename": "TypeError",
          "evalue": "ignored",
          "traceback": [
            "\u001b[0;31m---------------------------------------------------------------------------\u001b[0m",
            "\u001b[0;31mTypeError\u001b[0m                                 Traceback (most recent call last)",
            "\u001b[0;32m<ipython-input-12-1b6bae5c3df0>\u001b[0m in \u001b[0;36m<module>\u001b[0;34m()\u001b[0m\n\u001b[1;32m      4\u001b[0m \u001b[0mprint\u001b[0m\u001b[0;34m(\u001b[0m\u001b[0ms3\u001b[0m\u001b[0;34m)\u001b[0m\u001b[0;34m\u001b[0m\u001b[0;34m\u001b[0m\u001b[0m\n\u001b[1;32m      5\u001b[0m \u001b[0mtemp\u001b[0m\u001b[0;34m=\u001b[0m\u001b[0ms1\u001b[0m\u001b[0;34m[\u001b[0m\u001b[0;36m0\u001b[0m\u001b[0;34m]\u001b[0m\u001b[0;34m\u001b[0m\u001b[0;34m\u001b[0m\u001b[0m\n\u001b[0;32m----> 6\u001b[0;31m \u001b[0ms1\u001b[0m\u001b[0;34m[\u001b[0m\u001b[0;36m0\u001b[0m\u001b[0;34m]\u001b[0m\u001b[0;34m=\u001b[0m\u001b[0ms1\u001b[0m\u001b[0;34m[\u001b[0m\u001b[0;36m1\u001b[0m\u001b[0;34m]\u001b[0m\u001b[0;34m\u001b[0m\u001b[0;34m\u001b[0m\u001b[0m\n\u001b[0m\u001b[1;32m      7\u001b[0m \u001b[0ms1\u001b[0m\u001b[0;34m[\u001b[0m\u001b[0;36m1\u001b[0m\u001b[0;34m]\u001b[0m\u001b[0;34m=\u001b[0m\u001b[0mtemp\u001b[0m\u001b[0;34m\u001b[0m\u001b[0;34m\u001b[0m\u001b[0m\n\u001b[1;32m      8\u001b[0m \u001b[0mprint\u001b[0m\u001b[0;34m(\u001b[0m\u001b[0ms1\u001b[0m\u001b[0;34m)\u001b[0m\u001b[0;34m\u001b[0m\u001b[0;34m\u001b[0m\u001b[0m\n",
            "\u001b[0;31mTypeError\u001b[0m: 'str' object does not support item assignment"
          ]
        }
      ]
    },
    {
      "cell_type": "markdown",
      "metadata": {
        "id": "R546Fw996b6k",
        "colab_type": "text"
      },
      "source": [
        "4. Write a python script that takes input from user and display that input back in upper and lower cases "
      ]
    },
    {
      "cell_type": "code",
      "metadata": {
        "id": "1F3upB2Y7OLx",
        "colab_type": "code",
        "colab": {
          "base_uri": "https://localhost:8080/",
          "height": 84
        },
        "outputId": "00c6f490-1eb2-47a0-d2fc-97a8113a768d"
      },
      "source": [
        "s1=input('Enter a string in upper cases:')\n",
        "s2=input('Enter a string in lower cases:')\n",
        "print('string s1 in lower cases is:',s1.lower())\n",
        "print('string s2 in upper cases is:',s2.upper())"
      ],
      "execution_count": null,
      "outputs": [
        {
          "output_type": "stream",
          "text": [
            "Enter a string in upper cases:GITAM UNIVERSITY\n",
            "Enter a string in lower cases:banglore\n",
            "string s1 in lower cases is: gitam university\n",
            "string s2 in upper cases is: BANGLORE\n"
          ],
          "name": "stdout"
        }
      ]
    },
    {
      "cell_type": "markdown",
      "metadata": {
        "id": "bAJOGqZ58jcJ",
        "colab_type": "text"
      },
      "source": [
        "5. Write a python program to remove a newline in python."
      ]
    },
    {
      "cell_type": "code",
      "metadata": {
        "id": "VLsE0zXh8v8c",
        "colab_type": "code",
        "colab": {
          "base_uri": "https://localhost:8080/",
          "height": 50
        },
        "outputId": "61076504-e383-4887-aa5b-9a5b8e5156f4"
      },
      "source": [
        "s1='Good Morning\\nEveryone'\n",
        "s1=s1.rstrip('\\n')\n",
        "print('After removing white space in s1:',s1)"
      ],
      "execution_count": null,
      "outputs": [
        {
          "output_type": "stream",
          "text": [
            "After removing white space in s1: Good Morning\n",
            "Everyone\n"
          ],
          "name": "stdout"
        }
      ]
    },
    {
      "cell_type": "code",
      "metadata": {
        "id": "2meoN3Z_-Wou",
        "colab_type": "code",
        "colab": {
          "base_uri": "https://localhost:8080/",
          "height": 151
        },
        "outputId": "c4080e6d-fce2-4269-d9d2-9e65be8ea29a"
      },
      "source": [
        "help(str.rstrip)"
      ],
      "execution_count": null,
      "outputs": [
        {
          "output_type": "stream",
          "text": [
            "Help on method_descriptor:\n",
            "\n",
            "rstrip(...)\n",
            "    S.rstrip([chars]) -> str\n",
            "    \n",
            "    Return a copy of the string S with trailing whitespace removed.\n",
            "    If chars is given and not None, remove characters in chars instead.\n",
            "\n"
          ],
          "name": "stdout"
        }
      ]
    },
    {
      "cell_type": "markdown",
      "metadata": {
        "id": "74SGO473_sPQ",
        "colab_type": "text"
      },
      "source": [
        "6. Write a python program to count occuraences of a substring in a string.\n",
        "\n"
      ]
    },
    {
      "cell_type": "code",
      "metadata": {
        "id": "vdEG03thAQ6-",
        "colab_type": "code",
        "colab": {
          "base_uri": "https://localhost:8080/",
          "height": 50
        },
        "outputId": "86802b42-4d0f-483e-f6f3-eae2e6f15506"
      },
      "source": [
        "str1='Python Programming is user friendly program and efficient program'\n",
        "str1_count1=str1.count('program')\n",
        "str2_count2=str1.count('Programming',3,20)\n",
        "print(\"The count of 'program'is:\",str1_count1)\n",
        "print(\"The count of 'Programming'usingstart/end is:\",str2_count2)"
      ],
      "execution_count": 7,
      "outputs": [
        {
          "output_type": "stream",
          "text": [
            "The count of 'program'is: 2\n",
            "The count of 'Programming'usingstart/end is: 1\n"
          ],
          "name": "stdout"
        }
      ]
    },
    {
      "cell_type": "markdown",
      "metadata": {
        "id": "7kgHgmV3-0Kj",
        "colab_type": "text"
      },
      "source": [
        "7. Write a python program to convert a string in a list."
      ]
    },
    {
      "cell_type": "code",
      "metadata": {
        "id": "E9N-DJWA_WAv",
        "colab_type": "code",
        "colab": {
          "base_uri": "https://localhost:8080/",
          "height": 50
        },
        "outputId": "510e4fb9-785e-4f80-bc8b-7f43a88a61d3"
      },
      "source": [
        "s1=input('Enter a string:')\n",
        "s1=s1.split()\n",
        "print('conversion of string s1 to list:',s1)"
      ],
      "execution_count": 8,
      "outputs": [
        {
          "output_type": "stream",
          "text": [
            "Enter a string:Lets start our Python Programming now\n",
            "conversion of string s1 to list: ['Lets', 'start', 'our', 'Python', 'Programming', 'now']\n"
          ],
          "name": "stdout"
        }
      ]
    },
    {
      "cell_type": "markdown",
      "metadata": {
        "id": "omQkdyLQDecK",
        "colab_type": "text"
      },
      "source": [
        "8. Write a python program to perform deletion of a character."
      ]
    },
    {
      "cell_type": "code",
      "metadata": {
        "id": "KEWa4-VODrYB",
        "colab_type": "code",
        "colab": {
          "base_uri": "https://localhost:8080/",
          "height": 67
        },
        "outputId": "d800a379-9c54-4edf-8aae-368f5c9cb44d"
      },
      "source": [
        "s1=input('Enter a string:')\n",
        "print('original string:',s1)\n",
        "my_str=s1[:4]+s1[5:]\n",
        "print('My string after deletion of a character:',my_str)"
      ],
      "execution_count": 11,
      "outputs": [
        {
          "output_type": "stream",
          "text": [
            "Enter a string:Computer Science Engineering\n",
            "original string: Computer Science Engineering\n",
            "My string after deletion of a character: Compter Science Engineering\n"
          ],
          "name": "stdout"
        }
      ]
    },
    {
      "cell_type": "markdown",
      "metadata": {
        "id": "L_IW-vBmGaeV",
        "colab_type": "text"
      },
      "source": [
        "9. Write a program to print every character of a string entered by user in a new line using loop."
      ]
    },
    {
      "cell_type": "code",
      "metadata": {
        "id": "q2D5ACDaJehD",
        "colab_type": "code",
        "colab": {
          "base_uri": "https://localhost:8080/",
          "height": 118
        },
        "outputId": "c6503e2d-a46e-4120-c07d-ed3a01016d64"
      },
      "source": [
        "s1=input('Enter a string:')\n",
        "i=0\n",
        "for i in range (len(s1)):\n",
        "  print(' Each character in new line:',s1[i])"
      ],
      "execution_count": 26,
      "outputs": [
        {
          "output_type": "stream",
          "text": [
            "Enter a string:GITAM\n",
            " Each character in new line: G\n",
            " Each character in new line: I\n",
            " Each character in new line: T\n",
            " Each character in new line: A\n",
            " Each character in new line: M\n"
          ],
          "name": "stdout"
        }
      ]
    },
    {
      "cell_type": "markdown",
      "metadata": {
        "id": "e-8afUWqjRK-",
        "colab_type": "text"
      },
      "source": [
        "10. Write a program to find the length of a string \"refrigerator\" without using len function."
      ]
    },
    {
      "cell_type": "code",
      "metadata": {
        "id": "zMTfMZYakYpi",
        "colab_type": "code",
        "colab": {
          "base_uri": "https://localhost:8080/",
          "height": 34
        },
        "outputId": "81cc9917-d6cf-490c-f4a1-c68824c08eb8"
      },
      "source": [
        "s1='refrigerator'\n",
        "count=0\n",
        "for i in s1:\n",
        "  count=count+1\n",
        "print('Length of the string is:',count)  "
      ],
      "execution_count": 28,
      "outputs": [
        {
          "output_type": "stream",
          "text": [
            "Length of the string is: 12\n"
          ],
          "name": "stdout"
        }
      ]
    }
  ]
}