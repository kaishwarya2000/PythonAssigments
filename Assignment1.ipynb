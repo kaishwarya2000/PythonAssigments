{
  "nbformat": 4,
  "nbformat_minor": 0,
  "metadata": {
    "colab": {
      "name": "Untitled1.ipynb",
      "provenance": []
    },
    "kernelspec": {
      "name": "python3",
      "display_name": "Python 3"
    }
  },
  "cells": [
    {
      "cell_type": "markdown",
      "metadata": {
        "id": "YfuQULRSs_xU",
        "colab_type": "text"
      },
      "source": [
        "Program ot calculate Arithmatic Operators"
      ]
    },
    {
      "cell_type": "code",
      "metadata": {
        "id": "y5GUYef4owsj",
        "colab_type": "code",
        "colab": {
          "base_uri": "https://localhost:8080/",
          "height": 168
        },
        "outputId": "fd2b9f58-c740-479c-9a61-23aa01f7c8b6"
      },
      "source": [
        "a=int(input('Enter value of a'))\n",
        "b=int(input('Enter value of b'))\n",
        "print(a+b)\n",
        "print(a-b)\n",
        "print(a*b)\n",
        "print(a/b)\n",
        "print(a%b)\n",
        "print(a**b)\n",
        "print(a//b)"
      ],
      "execution_count": 3,
      "outputs": [
        {
          "output_type": "stream",
          "text": [
            "Enter value of a8\n",
            "Enter value of b5\n",
            "13\n",
            "3\n",
            "40\n",
            "1.6\n",
            "3\n",
            "32768\n",
            "1\n"
          ],
          "name": "stdout"
        }
      ]
    },
    {
      "cell_type": "markdown",
      "metadata": {
        "id": "Sh8VIWy3ono_",
        "colab_type": "text"
      },
      "source": [
        "Program to calculate Area of Circle"
      ]
    },
    {
      "cell_type": "code",
      "metadata": {
        "id": "6hGtIU2Soxjk",
        "colab_type": "code",
        "colab": {
          "base_uri": "https://localhost:8080/",
          "height": 50
        },
        "outputId": "54fa0f10-b831-47a0-f976-3a395e5cc2fe"
      },
      "source": [
        "r=int(input('Enter radius'))\n",
        "area=3.14*r*r\n",
        "print(area,type(area))"
      ],
      "execution_count": 1,
      "outputs": [
        {
          "output_type": "stream",
          "text": [
            "Enter radius4\n",
            "50.24 <class 'float'>\n"
          ],
          "name": "stdout"
        }
      ]
    },
    {
      "cell_type": "markdown",
      "metadata": {
        "id": "HvJ-IbEMvkr2",
        "colab_type": "text"
      },
      "source": [
        "Program to calculate Simple Intrest"
      ]
    },
    {
      "cell_type": "code",
      "metadata": {
        "id": "BM9trDRAwcy7",
        "colab_type": "code",
        "colab": {
          "base_uri": "https://localhost:8080/",
          "height": 34
        },
        "outputId": "fca31285-e55d-4e8f-9768-a3679eba4211"
      },
      "source": [
        "p=5\n",
        "t=3\n",
        "r=4\n",
        "print(p*t*r/100)"
      ],
      "execution_count": 5,
      "outputs": [
        {
          "output_type": "stream",
          "text": [
            "0.6\n"
          ],
          "name": "stdout"
        }
      ]
    },
    {
      "cell_type": "markdown",
      "metadata": {
        "id": "CcaqrgBrw_WZ",
        "colab_type": "text"
      },
      "source": [
        "Program to calculate area of Triangle"
      ]
    },
    {
      "cell_type": "code",
      "metadata": {
        "id": "V43ZPGx-xJuZ",
        "colab_type": "code",
        "colab": {
          "base_uri": "https://localhost:8080/",
          "height": 67
        },
        "outputId": "bfa4b77d-f700-4765-f77f-9586dcb1c4a6"
      },
      "source": [
        "b=int(input('Enter base of the triangle'))\n",
        "h=int(input('Enter height of the triangle'))\n",
        "area=b*h/2\n",
        "print(area)"
      ],
      "execution_count": 6,
      "outputs": [
        {
          "output_type": "stream",
          "text": [
            "Enter base of the triangle4\n",
            "Enter height of the triangle5\n",
            "10.0\n"
          ],
          "name": "stdout"
        }
      ]
    },
    {
      "cell_type": "markdown",
      "metadata": {
        "id": "dFjZGsaWzRsh",
        "colab_type": "text"
      },
      "source": [
        "Program to temperature in Celsius to Fahrenheit"
      ]
    },
    {
      "cell_type": "code",
      "metadata": {
        "id": "Usjl1SjBziK_",
        "colab_type": "code",
        "colab": {
          "base_uri": "https://localhost:8080/",
          "height": 50
        },
        "outputId": "cb02f380-e652-4519-dce0-8b4260639f1a"
      },
      "source": [
        "c=int(input('Enter temperature in celcius'))\n",
        "f=c*9/5+32\n",
        "print(f,type(f))"
      ],
      "execution_count": 7,
      "outputs": [
        {
          "output_type": "stream",
          "text": [
            "Enter temperature in celcius40\n",
            "104.0 <class 'float'>\n"
          ],
          "name": "stdout"
        }
      ]
    },
    {
      "cell_type": "markdown",
      "metadata": {
        "id": "og6al-fo0EJU",
        "colab_type": "text"
      },
      "source": [
        "Program to calculate Area of Rectangle"
      ]
    },
    {
      "cell_type": "code",
      "metadata": {
        "id": "B02lrS1I0VdK",
        "colab_type": "code",
        "colab": {
          "base_uri": "https://localhost:8080/",
          "height": 67
        },
        "outputId": "49b69f33-a9ca-4a7c-8ce3-27d948e4ac13"
      },
      "source": [
        "length=int(input('enter value of length'))\n",
        "breadth=int(input('enter value of breadth'))\n",
        "area=length*breadth\n",
        "print(area)"
      ],
      "execution_count": 8,
      "outputs": [
        {
          "output_type": "stream",
          "text": [
            "enter value of length9\n",
            "enter value of breadth5\n",
            "45\n"
          ],
          "name": "stdout"
        }
      ]
    },
    {
      "cell_type": "markdown",
      "metadata": {
        "id": "yM7FD-m70_YA",
        "colab_type": "text"
      },
      "source": [
        "Program to Calculate Perimeter of a Square\n",
        "\n",
        "\n"
      ]
    },
    {
      "cell_type": "code",
      "metadata": {
        "id": "lCfbHxyC2NVp",
        "colab_type": "code",
        "colab": {
          "base_uri": "https://localhost:8080/",
          "height": 50
        },
        "outputId": "f09ca031-dff4-4053-dde5-49c19b5602e1"
      },
      "source": [
        "s=int(input('Enter value of side'))\n",
        "p=4*s\n",
        "print(p)"
      ],
      "execution_count": 11,
      "outputs": [
        {
          "output_type": "stream",
          "text": [
            "Enter value of side10\n",
            "40\n"
          ],
          "name": "stdout"
        }
      ]
    },
    {
      "cell_type": "markdown",
      "metadata": {
        "id": "nGp1nNKc2uAt",
        "colab_type": "text"
      },
      "source": [
        "Program to calculate Circumference of a circle"
      ]
    },
    {
      "cell_type": "code",
      "metadata": {
        "id": "iqn-yKgS3E2i",
        "colab_type": "code",
        "colab": {
          "base_uri": "https://localhost:8080/",
          "height": 50
        },
        "outputId": "139b4be5-469f-45c0-e2f2-c8b9597f519d"
      },
      "source": [
        "r=int(input('Enter radius'))\n",
        "c=2*3.14*r\n",
        "print('circumference of the circle',c)"
      ],
      "execution_count": 12,
      "outputs": [
        {
          "output_type": "stream",
          "text": [
            "Enter radius7\n",
            "circumference of the circle 43.96\n"
          ],
          "name": "stdout"
        }
      ]
    },
    {
      "cell_type": "markdown",
      "metadata": {
        "id": "1UeI5ODM4uYG",
        "colab_type": "text"
      },
      "source": [
        "Program to swap two Numbers"
      ]
    },
    {
      "cell_type": "code",
      "metadata": {
        "id": "nNl65E405iGF",
        "colab_type": "code",
        "colab": {
          "base_uri": "https://localhost:8080/",
          "height": 50
        },
        "outputId": "0715bc29-3e5e-4170-845c-7454fae64fc1"
      },
      "source": [
        "x=9\n",
        "y=4\n",
        "x,y=y,x\n",
        "#temp=x\n",
        "#=y\n",
        "#y=temp\n",
        "print('value of x:',x)\n",
        "print('value of y:',y)"
      ],
      "execution_count": 16,
      "outputs": [
        {
          "output_type": "stream",
          "text": [
            "value of x: 4\n",
            "value of y: 9\n"
          ],
          "name": "stdout"
        }
      ]
    },
    {
      "cell_type": "code",
      "metadata": {
        "id": "4GGCvmW_6Dgw",
        "colab_type": "code",
        "colab": {}
      },
      "source": [
        ""
      ],
      "execution_count": null,
      "outputs": []
    }
  ]
}