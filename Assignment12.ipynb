{
  "nbformat": 4,
  "nbformat_minor": 0,
  "metadata": {
    "colab": {
      "name": "Assignment13.ipynb",
      "provenance": []
    },
    "kernelspec": {
      "name": "python3",
      "display_name": "Python 3"
    }
  },
  "cells": [
    {
      "cell_type": "markdown",
      "metadata": {
        "id": "eILVDGGgt9P4",
        "colab_type": "text"
      },
      "source": [
        "1. What is dictionary in python? Explain with an example.\n",
        "\n",
        "    A dictionary in python is a collection of key-value      pairs.Each key-value pair maps its key to its associated value. Keys are immutable in nature whereas values are mutable.\n",
        "\n",
        "   syntax:{key1:value1,key2:value2}\n",
        "   eg:{\"a\":1,\"b\":2}"
      ]
    },
    {
      "cell_type": "markdown",
      "metadata": {
        "id": "h8iN93t1wAiJ",
        "colab_type": "text"
      },
      "source": [
        "2. Python program to sum all the items in a list."
      ]
    },
    {
      "cell_type": "code",
      "metadata": {
        "id": "8ii7mOkjwJGf",
        "colab_type": "code",
        "colab": {
          "base_uri": "https://localhost:8080/",
          "height": 67
        },
        "outputId": "63320e8e-fd23-4909-aa37-d39899f550b0"
      },
      "source": [
        "l=input(\"Enter a string:\")\n",
        "my_list=l.split(\",\")\n",
        "for i in range(len(my_list)):\n",
        "  my_list[i]=int(my_list[i]) \n",
        "print('my_list:',my_list)\n",
        "sum=0\n",
        "for i in range(len(my_list)):\n",
        "  sum=sum+my_list[i]\n",
        "print('sum of my_list:',sum)"
      ],
      "execution_count": 9,
      "outputs": [
        {
          "output_type": "stream",
          "text": [
            "Enter a string:10,20,30,40,50\n",
            "my_list: [10, 20, 30, 40, 50]\n",
            "sum of my_list: 150\n"
          ],
          "name": "stdout"
        }
      ]
    },
    {
      "cell_type": "markdown",
      "metadata": {
        "id": "F4uNWMIDzjPr",
        "colab_type": "text"
      },
      "source": [
        "3. Python program to create a list of empty dictionaries.  "
      ]
    },
    {
      "cell_type": "code",
      "metadata": {
        "id": "2yDl4JFh0Aiz",
        "colab_type": "code",
        "colab": {
          "base_uri": "https://localhost:8080/",
          "height": 50
        },
        "outputId": "e8b43a6f-b609-4bf4-a1bd-fe64a057f701"
      },
      "source": [
        "d={'p':10,'q':20,'r':30,'s':50}\n",
        "print('my_dictionary:',d)\n",
        "d.clear()\n",
        "print('empty dictionary:',d)"
      ],
      "execution_count": 10,
      "outputs": [
        {
          "output_type": "stream",
          "text": [
            "my_dictionary: {'p': 10, 'q': 20, 'r': 30, 's': 50}\n",
            "empty dictionary: {}\n"
          ],
          "name": "stdout"
        }
      ]
    },
    {
      "cell_type": "markdown",
      "metadata": {
        "id": "WCX3GMc90rzY",
        "colab_type": "text"
      },
      "source": [
        "4. Python program to access dictionary keys element by index."
      ]
    },
    {
      "cell_type": "code",
      "metadata": {
        "id": "2LSq39Ee05HN",
        "colab_type": "code",
        "colab": {
          "base_uri": "https://localhost:8080/",
          "height": 118
        },
        "outputId": "19dbd1d3-176d-41af-ac93-ed1dac895041"
      },
      "source": [
        "keys=input('Enter days of a week: ')\n",
        "values=input('Enter value:')\n",
        "print('my_keys:',keys)\n",
        "print('my_values:',values)\n",
        "d=dict(zip(keys,values))\n",
        "print('my dictionary:',d)\n",
        "print(list(d)[3])"
      ],
      "execution_count": 13,
      "outputs": [
        {
          "output_type": "stream",
          "text": [
            "Enter days of a week: a,b,c,d\n",
            "Enter value:1,2,3,4\n",
            "my_keys: a,b,c,d\n",
            "my_values: 1,2,3,4\n",
            "my dictionary: {'a': '1', ',': ',', 'b': '2', 'c': '3', 'd': '4'}\n",
            "c\n"
          ],
          "name": "stdout"
        }
      ]
    },
    {
      "cell_type": "markdown",
      "metadata": {
        "id": "cmAt1ifn4S3T",
        "colab_type": "text"
      },
      "source": [
        "5. Concatenate Dictionaries."
      ]
    },
    {
      "cell_type": "code",
      "metadata": {
        "id": "l5ndQhj-49K5",
        "colab_type": "code",
        "colab": {
          "base_uri": "https://localhost:8080/",
          "height": 34
        },
        "outputId": "941f715a-a899-4c4e-cc4d-925018623bae"
      },
      "source": [
        "dic1={1:10,2:20}\n",
        "dic2={3:30,4:40}\n",
        "dic3={5:50,6:60}\n",
        "dic4={}\n",
        "for d in(dic1,dic2,dic3):dic4.update(d)\n",
        "print('new dictionary:',dic4)"
      ],
      "execution_count": 1,
      "outputs": [
        {
          "output_type": "stream",
          "text": [
            "new dictionary: {1: 10, 2: 20, 3: 30, 4: 40, 5: 50, 6: 60}\n"
          ],
          "name": "stdout"
        }
      ]
    }
  ]
}