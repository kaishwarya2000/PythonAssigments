{
  "nbformat": 4,
  "nbformat_minor": 0,
  "metadata": {
    "colab": {
      "name": "Assignment 11.ipynb",
      "provenance": []
    },
    "kernelspec": {
      "name": "python3",
      "display_name": "Python 3"
    }
  },
  "cells": [
    {
      "cell_type": "markdown",
      "metadata": {
        "id": "48SYcE8kNtvW",
        "colab_type": "text"
      },
      "source": [
        "1. Python program to create a tuple with different data types."
      ]
    },
    {
      "cell_type": "code",
      "metadata": {
        "id": "DQ_uWu_jNsV4",
        "colab_type": "code",
        "colab": {
          "base_uri": "https://localhost:8080/",
          "height": 50
        },
        "outputId": "fe0eb54a-deae-49bb-99bc-79ad9a27cddf"
      },
      "source": [
        "t1=(3,5)\n",
        "t2=(7.4,)\n",
        "t3=tuple('college')\n",
        "print(t1,type(t1),t2,type(t2),t3,type(t3))\n",
        "t=(3,7.4,'college',True)\n",
        "print('Tuple with different datatypes:',t)"
      ],
      "execution_count": 4,
      "outputs": [
        {
          "output_type": "stream",
          "text": [
            "(3, 5) <class 'tuple'> (7.4,) <class 'tuple'> ('c', 'o', 'l', 'l', 'e', 'g', 'e') <class 'tuple'>\n",
            "Tuple with different datatypes: (3, 7.4, 'college', True)\n"
          ],
          "name": "stdout"
        }
      ]
    },
    {
      "cell_type": "markdown",
      "metadata": {
        "id": "fzPumfXbPQ7h",
        "colab_type": "text"
      },
      "source": [
        "2. Python program to convert a tuple to a string."
      ]
    },
    {
      "cell_type": "code",
      "metadata": {
        "id": "yxjoN7bZPwTE",
        "colab_type": "code",
        "colab": {
          "base_uri": "https://localhost:8080/",
          "height": 50
        },
        "outputId": "c5831ba0-8778-40a6-a121-1e1932537884"
      },
      "source": [
        "a=('h','e','l','l','o')\n",
        "print('tuple:',a)\n",
        "b=''.join(a)\n",
        "print('tuple into string:',b)"
      ],
      "execution_count": 10,
      "outputs": [
        {
          "output_type": "stream",
          "text": [
            "tuple: ('h', 'e', 'l', 'l', 'o')\n",
            "tuple into string: hello\n"
          ],
          "name": "stdout"
        }
      ]
    },
    {
      "cell_type": "markdown",
      "metadata": {
        "id": "Do-FvoiDRxgE",
        "colab_type": "text"
      },
      "source": [
        "3. Python program to create a tuple."
      ]
    },
    {
      "cell_type": "code",
      "metadata": {
        "id": "z-q_w65aSIMs",
        "colab_type": "code",
        "colab": {
          "base_uri": "https://localhost:8080/",
          "height": 50
        },
        "outputId": "e74cba7b-1ab3-4b4f-a790-0e2a2f441b5c"
      },
      "source": [
        "s=input('Enter a string:')\n",
        "s1=tuple(s)\n",
        "print('tuple:',s1)"
      ],
      "execution_count": 12,
      "outputs": [
        {
          "output_type": "stream",
          "text": [
            "Enter a string:Hello Everyone\n",
            "tuple: ('H', 'e', 'l', 'l', 'o', ' ', 'E', 'v', 'e', 'r', 'y', 'o', 'n', 'e')\n"
          ],
          "name": "stdout"
        }
      ]
    },
    {
      "cell_type": "markdown",
      "metadata": {
        "id": "boL3Hd5HS449",
        "colab_type": "text"
      },
      "source": [
        "4. Python program to slice a tuple."
      ]
    },
    {
      "cell_type": "code",
      "metadata": {
        "id": "3ctJ-el9TDpS",
        "colab_type": "code",
        "colab": {
          "base_uri": "https://localhost:8080/",
          "height": 67
        },
        "outputId": "7d5ebf8a-2f3b-478d-ede3-a6296bea6ff6"
      },
      "source": [
        "a=input('Enter a string:')\n",
        "a1=tuple(a)\n",
        "print('tuple:',a1)\n",
        "a2=a1[8:]\n",
        "print('After slicing',a2)\n"
      ],
      "execution_count": 16,
      "outputs": [
        {
          "output_type": "stream",
          "text": [
            "Enter a string:Hey How are you there?\n",
            "tuple: ('H', 'e', 'y', ' ', 'H', 'o', 'w', ' ', 'a', 'r', 'e', ' ', 'y', 'o', 'u', ' ', 't', 'h', 'e', 'r', 'e', '?')\n",
            "After slicing ('a', 'r', 'e', ' ', 'y', 'o', 'u', ' ', 't', 'h', 'e', 'r', 'e', '?')\n"
          ],
          "name": "stdout"
        }
      ]
    },
    {
      "cell_type": "markdown",
      "metadata": {
        "id": "Zqj433dZVOlY",
        "colab_type": "text"
      },
      "source": [
        "5. Python program to find length of a tuple."
      ]
    },
    {
      "cell_type": "code",
      "metadata": {
        "id": "Y_mW4Xi2dTFT",
        "colab_type": "code",
        "colab": {
          "base_uri": "https://localhost:8080/",
          "height": 67
        },
        "outputId": "7a880f65-b848-4d88-e918-f59ffef07ec2"
      },
      "source": [
        "t=input('Enter string t:')\n",
        "t1=tuple(t)\n",
        "print('tuple:',t1)\n",
        "t2=(len(t1))\n",
        "print('Length of tuple:',t2)"
      ],
      "execution_count": 24,
      "outputs": [
        {
          "output_type": "stream",
          "text": [
            "Enter string t:Welcome\n",
            "tuple: ('W', 'e', 'l', 'c', 'o', 'm', 'e')\n",
            "Length of tuple: 7\n"
          ],
          "name": "stdout"
        }
      ]
    },
    {
      "cell_type": "markdown",
      "metadata": {
        "id": "_5m3E9iUe-4_",
        "colab_type": "text"
      },
      "source": [
        "6. Python program to reverse a tuple."
      ]
    },
    {
      "cell_type": "code",
      "metadata": {
        "id": "dY-0byStfHqu",
        "colab_type": "code",
        "colab": {
          "base_uri": "https://localhost:8080/",
          "height": 67
        },
        "outputId": "670394c6-51e2-4388-a0f9-563f9bbb7be6"
      },
      "source": [
        "a=input('Enter a string')\n",
        "a1=tuple(a)\n",
        "print('original tuple:',a1)\n",
        "a2=a1[-1: :-1]\n",
        "print('reversed tuple:',a2)"
      ],
      "execution_count": 26,
      "outputs": [
        {
          "output_type": "stream",
          "text": [
            "Enter a stringAishwarya\n",
            "original tuple: ('A', 'i', 's', 'h', 'w', 'a', 'r', 'y', 'a')\n",
            "reversed tuple: ('a', 'y', 'r', 'a', 'w', 'h', 's', 'i', 'A')\n"
          ],
          "name": "stdout"
        }
      ]
    },
    {
      "cell_type": "markdown",
      "metadata": {
        "id": "vFR4RMqIf6m_",
        "colab_type": "text"
      },
      "source": [
        "7. Python program to convert list into tuple."
      ]
    },
    {
      "cell_type": "code",
      "metadata": {
        "id": "fgubXKU_gElm",
        "colab_type": "code",
        "colab": {
          "base_uri": "https://localhost:8080/",
          "height": 67
        },
        "outputId": "b163e2aa-6a9e-4cd0-80fb-2043cc2272ac"
      },
      "source": [
        "l1=input('Enter a string:')\n",
        "l2=l1.split( )\n",
        "print('My_list:',l2)\n",
        "t1=tuple(l2)\n",
        "print('My_list to tuple conversion:',t1)"
      ],
      "execution_count": 33,
      "outputs": [
        {
          "output_type": "stream",
          "text": [
            "Enter a string:Congrats to You\n",
            "My_list: ['Congrats', 'to', 'You']\n",
            "My_list to tuple conversion: ('Congrats', 'to', 'You')\n"
          ],
          "name": "stdout"
        }
      ]
    },
    {
      "cell_type": "markdown",
      "metadata": {
        "id": "N0lXBREWjEAh",
        "colab_type": "text"
      },
      "source": [
        "8. Python program to convert list of tuples into a dictionary."
      ]
    },
    {
      "cell_type": "code",
      "metadata": {
        "id": "y5BHRKVVjWgy",
        "colab_type": "code",
        "colab": {
          "base_uri": "https://localhost:8080/",
          "height": 134
        },
        "outputId": "8620bbe5-9971-41d5-ca6e-d2cf024a7066"
      },
      "source": [
        "sub=input('Enter subject:')\n",
        "marks=input('Enter marks:')\n",
        "s=list(s)\n",
        "m=list(m)\n",
        "print('List of subjects:',s)\n",
        "print('List of marks obtained for each subject:',m)\n",
        "t1=tuple(s)\n",
        "print('sub in tuple:',t1)\n",
        "t2=tuple(m)\n",
        "print('marks in tuple:',t2)\n",
        "d1=dict(zip(t1,t2))\n",
        "print('Tuple into dictionary:',d1)"
      ],
      "execution_count": 42,
      "outputs": [
        {
          "output_type": "stream",
          "text": [
            "Enter subject:math,eng,phy,chem\n",
            "Enter marks:90,85,84,94\n",
            "List of subjects: ['math,eng,phy,chem']\n",
            "List of marks obtained for each subject: ['88,80,90,95']\n",
            "sub in tuple: ('math,eng,phy,chem',)\n",
            "marks in tuple: ('88,80,90,95',)\n",
            "Tuple into dictionary: {'math,eng,phy,chem': '88,80,90,95'}\n"
          ],
          "name": "stdout"
        }
      ]
    },
    {
      "cell_type": "markdown",
      "metadata": {
        "id": "NWBs9gm3oAgZ",
        "colab_type": "text"
      },
      "source": [
        "9. Python to convert a tuple into dictionary."
      ]
    },
    {
      "cell_type": "code",
      "metadata": {
        "id": "RrIvpphuqJ2s",
        "colab_type": "code",
        "colab": {
          "base_uri": "https://localhost:8080/",
          "height": 67
        },
        "outputId": "92c55c1a-bb9c-4301-dd85-13a2906904b7"
      },
      "source": [
        "key_tuple=('Jan','Feb','Mar','Apr','May')\n",
        "value_tuple=(1,2,3,4,5)\n",
        "print('key_tuple:',key_tuple)\n",
        "print('value_tuple:',value_tuple)\n",
        "d=dict(zip(key_tuple,value_tuple))\n",
        "print('Dictionary converted from tuples:',d)"
      ],
      "execution_count": 39,
      "outputs": [
        {
          "output_type": "stream",
          "text": [
            "key_tuple: ('Jan', 'Feb', 'Mar', 'Apr', 'May')\n",
            "value_tuple: (1, 2, 3, 4, 5)\n",
            "Dictionary converted from tuples: {'Jan': 1, 'Feb': 2, 'Mar': 3, 'Apr': 4, 'May': 5}\n"
          ],
          "name": "stdout"
        }
      ]
    }
  ]
}