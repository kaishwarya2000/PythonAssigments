{
  "nbformat": 4,
  "nbformat_minor": 0,
  "metadata": {
    "colab": {
      "name": "Assignment7.ipynb",
      "provenance": []
    },
    "kernelspec": {
      "name": "python3",
      "display_name": "Python 3"
    }
  },
  "cells": [
    {
      "cell_type": "markdown",
      "metadata": {
        "id": "VWJKdBKMg5kr",
        "colab_type": "text"
      },
      "source": [
        "1. Python program to find the square root"
      ]
    },
    {
      "cell_type": "code",
      "metadata": {
        "id": "o3M7uHe1ghom",
        "colab_type": "code",
        "colab": {
          "base_uri": "https://localhost:8080/",
          "height": 50
        },
        "outputId": "4a6c7b75-09e6-45c6-c6d8-24ab46fda3d1"
      },
      "source": [
        "import math\n",
        "\n",
        "a=int(input('Enter a number to find sqare of a number:'))\n",
        "ans=math.sqrt(a)\n",
        "print('The squareroot of a is:',ans)  \n",
        "\n"
      ],
      "execution_count": null,
      "outputs": [
        {
          "output_type": "stream",
          "text": [
            "Enter a number to find sqare of a number:81\n",
            "The squareroot of a is: 9.0\n"
          ],
          "name": "stdout"
        }
      ]
    },
    {
      "cell_type": "markdown",
      "metadata": {
        "id": "MKkIJDXSkqFt",
        "colab_type": "text"
      },
      "source": [
        "Python program to check if a number is positive, negative or zero."
      ]
    },
    {
      "cell_type": "code",
      "metadata": {
        "id": "MwKZuqKXk3Zr",
        "colab_type": "code",
        "colab": {
          "base_uri": "https://localhost:8080/",
          "height": 50
        },
        "outputId": "d9cccf8f-622b-43fc-b461-a1181f12de65"
      },
      "source": [
        "x=int(input('Enter a number:'))\n",
        "if x>0:\n",
        "  print('The entered number is positive')\n",
        "elif x<0:\n",
        "  print('The entered number is negative')\n",
        "else:\n",
        "  print('The entered number is equal to zero')    "
      ],
      "execution_count": null,
      "outputs": [
        {
          "output_type": "stream",
          "text": [
            "Enter a number:-10\n",
            "The entered number is negative\n"
          ],
          "name": "stdout"
        }
      ]
    },
    {
      "cell_type": "markdown",
      "metadata": {
        "id": "FodQ_TcPlu6w",
        "colab_type": "text"
      },
      "source": [
        "3. Python program to check leap year."
      ]
    },
    {
      "cell_type": "code",
      "metadata": {
        "id": "u5gcGxqOl2TP",
        "colab_type": "code",
        "colab": {
          "base_uri": "https://localhost:8080/",
          "height": 50
        },
        "outputId": "b25c3c9d-f910-4618-e519-576ef824edc1"
      },
      "source": [
        "year=int(input('Enter a year:'))\n",
        "if year%4==0 and year%100!=0:\n",
        "  print(year,'is a Leap year')\n",
        "elif year%100==0:\n",
        "  print(year,'is not a leap year')  \n",
        "elif year%400==0:\n",
        "  print(year,'is a Leap year')  \n",
        "else:\n",
        "  print(year,'is not a Leap year')"
      ],
      "execution_count": null,
      "outputs": [
        {
          "output_type": "stream",
          "text": [
            "Enter a year:1996\n",
            "1996 is a Leap year\n"
          ],
          "name": "stdout"
        }
      ]
    },
    {
      "cell_type": "markdown",
      "metadata": {
        "id": "r_9wawuBqvur",
        "colab_type": "text"
      },
      "source": [
        "4. Python program to print the Fibonacci series."
      ]
    },
    {
      "cell_type": "code",
      "metadata": {
        "id": "9cZf4Aszq-0o",
        "colab_type": "code",
        "colab": {
          "base_uri": "https://localhost:8080/",
          "height": 50
        },
        "outputId": "c53a44ee-2a5e-4379-c66b-0d7288b4b010"
      },
      "source": [
        "n=int(input('Enter n value:'))\n",
        "a=0\n",
        "b=1\n",
        "sum=0\n",
        "count=1\n",
        "print('fibonacci series of n is:',end=\" \")\n",
        "while(count<=n):\n",
        "  print(sum,end=\" \")\n",
        "  count+=1\n",
        "  a=b\n",
        "  b=sum\n",
        "  sum=a+b"
      ],
      "execution_count": null,
      "outputs": [
        {
          "output_type": "stream",
          "text": [
            "Enter n value:8\n",
            "fibonacci series of n is: 0 1 1 2 3 5 8 13 "
          ],
          "name": "stdout"
        }
      ]
    },
    {
      "cell_type": "markdown",
      "metadata": {
        "id": "Uh6TzgUtu70n",
        "colab_type": "text"
      },
      "source": [
        "5. Python program to check Amstrong number in an interval."
      ]
    },
    {
      "cell_type": "code",
      "metadata": {
        "id": "usn3R1_svEZy",
        "colab_type": "code",
        "colab": {
          "base_uri": "https://localhost:8080/",
          "height": 185
        },
        "outputId": "7cae8cd9-fc42-4b66-96bf-d1812ad5a222"
      },
      "source": [
        "for i in range(101):\n",
        "  num=i\n",
        "  result=0\n",
        "  n=len(str(i))\n",
        "  while i!=0:\n",
        "    digit=i%10\n",
        "    result=result+digit**n\n",
        "    i=i//10\n",
        "  if num==result:\n",
        "    print('Amstrong numbers from 0 to 100 are:',num)  "
      ],
      "execution_count": null,
      "outputs": [
        {
          "output_type": "stream",
          "text": [
            "Amstrong numbers from 0 to 100 are: 0\n",
            "Amstrong numbers from 0 to 100 are: 1\n",
            "Amstrong numbers from 0 to 100 are: 2\n",
            "Amstrong numbers from 0 to 100 are: 3\n",
            "Amstrong numbers from 0 to 100 are: 4\n",
            "Amstrong numbers from 0 to 100 are: 5\n",
            "Amstrong numbers from 0 to 100 are: 6\n",
            "Amstrong numbers from 0 to 100 are: 7\n",
            "Amstrong numbers from 0 to 100 are: 8\n",
            "Amstrong numbers from 0 to 100 are: 9\n"
          ],
          "name": "stdout"
        }
      ]
    },
    {
      "cell_type": "markdown",
      "metadata": {
        "id": "lTD7E0OM28nj",
        "colab_type": "text"
      },
      "source": [
        "6. Python program to check Amstrong number."
      ]
    },
    {
      "cell_type": "code",
      "metadata": {
        "id": "fd8wvrVp3OF2",
        "colab_type": "code",
        "colab": {
          "base_uri": "https://localhost:8080/",
          "height": 50
        },
        "outputId": "897f1722-c18a-4bfb-9a35-4c571cb59cc8"
      },
      "source": [
        "x=int(input('Enter a number:'))\n",
        "num=i\n",
        "result=0\n",
        "n=len(str(i))\n",
        "while i!=0:\n",
        "  digit=i%10\n",
        "  result=result+digit**n\n",
        "  i=i//10\n",
        "if (result==num):\n",
        "  print('it is a amstrong number')\n",
        "else:\n",
        "  print('not an amstrong number')    \n"
      ],
      "execution_count": null,
      "outputs": [
        {
          "output_type": "stream",
          "text": [
            "Enter a number:153\n",
            "it is a amstrong number\n"
          ],
          "name": "stdout"
        }
      ]
    }
  ]
}